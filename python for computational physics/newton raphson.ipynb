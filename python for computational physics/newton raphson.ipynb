{
 "metadata": {
  "language_info": {
   "codemirror_mode": {
    "name": "ipython",
    "version": 3
   },
   "file_extension": ".py",
   "mimetype": "text/x-python",
   "name": "python",
   "nbconvert_exporter": "python",
   "pygments_lexer": "ipython3",
   "version": "3.9.0-final"
  },
  "orig_nbformat": 2,
  "kernelspec": {
   "name": "python3",
   "display_name": "Python 3.9.0 64-bit",
   "metadata": {
    "interpreter": {
     "hash": "a1c048be7b072d6dd25b9ac428dc1fb9f8714e6b09effa99acd4035ec8dbeb08"
    }
   }
  }
 },
 "nbformat": 4,
 "nbformat_minor": 2,
 "cells": [
  {
   "cell_type": "code",
   "execution_count": 1,
   "metadata": {},
   "outputs": [],
   "source": [
    "def f(x): return x*x - 5\n",
    "def df(x): return 2*x"
   ]
  },
  {
   "cell_type": "code",
   "execution_count": 2,
   "metadata": {},
   "outputs": [
    {
     "output_type": "stream",
     "name": "stdout",
     "text": [
      "n = 1 x = 10.125\nn = 2 x = 5.309413580246914\nn = 3 x = 3.1255685834674476\nn = 4 x = 2.3626387608449235\nn = 5 x = 2.2394582891001273\nn = 6 x = 2.236070543792898\nn = 7 x = 2.2360679775012624\n"
     ]
    }
   ],
   "source": [
    "x = 20 # initial guess for the root, intentionally large to examplify the speed of convergence\n",
    "n = 0\n",
    "e = 1.e-5 # = 0.00001\n",
    "while( abs(f(x)) > e and n < 100):\n",
    "  x = x - f(x)/df(x)\n",
    "  n = n + 1\n",
    "  print('n =', n, 'x =', x)"
   ]
  },
  {
   "cell_type": "code",
   "execution_count": 4,
   "metadata": {},
   "outputs": [],
   "source": [
    "# Βλέπουμε συγκριτικά με τη μέθοδο της διχοτόμησης ότι συγκλίνει σε 7 μόλις επαναλήψεις (ενώ στην μέθοδο διχοτόμησης είχαμε 17 επαναλήψεις)"
   ]
  },
  {
   "cell_type": "code",
   "execution_count": 5,
   "metadata": {},
   "outputs": [
    {
     "output_type": "stream",
     "name": "stdout",
     "text": [
      "reference value =  2.23606797749979 estimated value =  2.2360679775012624\nabsolute error =  1.4725998198628076e-12\nfractional error =  6.585666601734366e-11 %\n"
     ]
    }
   ],
   "source": [
    "refValue = 5**0.5        # default of sqrt(5) in python\n",
    "print('reference value = ', refValue, 'estimated value = ', x)\n",
    "absError = abs(refValue - x)\n",
    "fracError = 100*absError/refValue\n",
    "print('absolute error = ', absError)\n",
    "print('fractional error = ', fracError, '%')"
   ]
  },
  {
   "cell_type": "code",
   "execution_count": null,
   "metadata": {},
   "outputs": [],
   "source": []
  }
 ]
}