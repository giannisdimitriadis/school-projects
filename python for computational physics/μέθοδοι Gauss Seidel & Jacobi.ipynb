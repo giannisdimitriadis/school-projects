{
 "metadata": {
  "language_info": {
   "codemirror_mode": {
    "name": "ipython",
    "version": 3
   },
   "file_extension": ".py",
   "mimetype": "text/x-python",
   "name": "python",
   "nbconvert_exporter": "python",
   "pygments_lexer": "ipython3",
   "version": "3.9.0-final"
  },
  "orig_nbformat": 2,
  "kernelspec": {
   "name": "python3",
   "display_name": "Python 3.9.0 64-bit",
   "metadata": {
    "interpreter": {
     "hash": "a1c048be7b072d6dd25b9ac428dc1fb9f8714e6b09effa99acd4035ec8dbeb08"
    }
   }
  }
 },
 "nbformat": 4,
 "nbformat_minor": 2,
 "cells": [
  {
   "cell_type": "code",
   "execution_count": 1,
   "metadata": {},
   "outputs": [],
   "source": [
    "import numpy as np"
   ]
  },
  {
   "cell_type": "code",
   "execution_count": 9,
   "metadata": {},
   "outputs": [
    {
     "output_type": "stream",
     "name": "stdout",
     "text": [
      "M \n [[0.         0.33333333 0.        ]\n [0.33333333 0.         0.33333333]\n [0.         0.5        0.        ]]\nΤελικός X \n [[5.]\n [5.]\n [5.]]\nΤελικά Ax - b \n [[0.]\n [0.]\n [0.]]\n"
     ]
    }
   ],
   "source": [
    "# Επαναληπτική Μέθοδος Jacobi\n",
    "\n",
    "def Jacobi(A, b): \n",
    "    (n, m) = A.shape\n",
    "    if n != m: print('Ο πίνακας δεν είναι τετραγωνικός, αλλά %d x %d'%(n, m))\n",
    "    if (n, 1) != b.shape: print('Το b δεν είναι διάνυσμα στήλης ίδιας διάστασης με τον Α')\n",
    "  \n",
    "    D = np.identity(n)                # Αρχικοποιώ τον D ως τον μοναδιαίο πίνακα\n",
    "    Dinv = np.identity(n)             # Παίρνω τον αντίστροφό του, D^{-1}\n",
    "    for k in range(n): \n",
    "        D[k,k] = A[k,k]               # Εκχωρώ στα στοιχεία της διαγωνίου τα στοιχεία της \n",
    "        Dinv[k,k] = 1/A[k,k]          # διαγωνίου του Α για τους D, D^{-1}\n",
    "\n",
    "    S = D - A                         # Σπάμε τον πίνακα Α σε διαφορά πινάκων A = D - S (ο D περιέχει τα στοιχεία της διαγωνίου του Α και όλα τα μη διαγώνια στοιχεία μηδενικά, ενώ ο S έχει όλα τα μη διαγώνια στοιχεία του Α με αντίθετο πρόσημο, προκειμένου να είναι A = D - S)\n",
    "    M = Dinv@S                        # Ορίζω τον Μ = D^{-1}*S\n",
    "    Dinvb = Dinv@b                    # Ορίζω την ποσότητα D^{-1}*b\n",
    "    print('M \\n', M)\n",
    "    X = np.zeros((n,1))               # Αρχικοποίηση της λύσης (μηδενικός πίνακας στήλη)\n",
    "\n",
    "    for ii in range(100): \n",
    "        X = M@X + Dinvb               # Εδώ είναι το αποτέλεσμα x_{n+1} = M*x_{n} + D^{-1}*b\n",
    "\n",
    "    print('Τελικός X \\n', X)\n",
    "    print('Τελικά Ax - b \\n', A@X - b)\n",
    "\n",
    "\n",
    "\n",
    "\n",
    "\n",
    "if __name__ == '__main__':            # Κυρίως πρόγραμμα που δίνω τους πίνακες A, b\n",
    "    b = np.array([ [10.], \n",
    "                   [5.],   \n",
    "                   [10.] ]) \n",
    "\n",
    "    A = np.array([ [ 3  , -1. ,  0 ], \n",
    "                   [-1. ,  3. , -1 ], \n",
    "                   [0   , -2. , 4. ] \n",
    "                ])\n",
    "        \n",
    "    Jacobi(A, b)                      # Καλώ την Jacobi με ορίσματα τους πίνακες του συστήματος που καλούμαι να επιλύσω "
   ]
  },
  {
   "cell_type": "code",
   "execution_count": 10,
   "metadata": {},
   "outputs": [
    {
     "output_type": "stream",
     "name": "stdout",
     "text": [
      "Τελική λύση X \n [[21.66666667]\n [11.66666667]\n [ 8.33333333]]\nΤελικά Ax - b \n [[-1.77635684e-15]\n [ 3.55271368e-15]\n [-3.55271368e-15]]\n"
     ]
    }
   ],
   "source": [
    "# Επαναληπτική Μέθοδος Gauss Seidel (δεν χρησιμοποιώ τον D^{-1})\n",
    "\n",
    "def GaussSeidel(A, b):\n",
    "    '''Επαναληπτική μέθοδος Gauss Seidel με διαδοχικές αντικαταστάσεις''' \n",
    "    (n, m) = A.shape\n",
    "    if n != m: print('Ο πίνακας δεν είναι τετραγωνικός, αλλά %d x %d'%(n, m))\n",
    "    if (n, 1) != b.shape: print('Το b δεν είναι διάνυσμα στήλης ίδιας διάστασης με τον Α')\n",
    "  \n",
    "\n",
    "\n",
    "    X = np.zeros((n,1))                 # Αρχικοποίηση της λύσης (μηδενικός πίνακας στήλη)\n",
    "    \n",
    "    for ii in range(100):\n",
    "      for row in range(n):\n",
    "        U = X.copy()                    # Κατασκευάζω έναν κλώνο του Χ \n",
    "        U[row] = 0                      # Του δίνω μηδενικά στοιχεία στην εκάστοτε γραμμή\n",
    "        X[row] = (b[row] - A[row]@U)/A[row, row] \n",
    " \n",
    "    print('Τελική λύση X \\n', X)\n",
    "    print('Τελικά Ax - b \\n', A@X - b)\n",
    "\n",
    "\n",
    "\n",
    "if __name__ == '__main__':               # Κυρίως πρόγραμμα που δίνω τους πίνακες A, b\n",
    "    \n",
    "    b = np.array([ [10.], \n",
    "                   [5.],   \n",
    "                   [10.] ]) \n",
    "\n",
    "    A = np.array([ [ 1  , -1. ,  0 ], \n",
    "                   [-1. ,  3. , -1 ], \n",
    "                   [0   , -2. , 4. ] \n",
    "                ])\n",
    "    \n",
    "    GaussSeidel(A, b)"
   ]
  },
  {
   "cell_type": "code",
   "execution_count": 11,
   "metadata": {},
   "outputs": [
    {
     "output_type": "stream",
     "name": "stdout",
     "text": [
      "M \n [[0.         1.         0.        ]\n [0.         0.33333333 0.33333333]\n [0.         0.16666667 0.16666667]]\neigenvalues \n [0.  0.5 0. ]\neigenvectors \n [[ 1.00000000e+000  8.72871561e-001  1.00000000e+000]\n [ 0.00000000e+000  4.36435780e-001 -3.00625254e-292]\n [ 0.00000000e+000  2.18217890e-001  3.00625254e-292]]\nspectral radius =  0.5\ncross-checked X \n [[21.66666667]\n [11.66666667]\n [ 8.33333333]]\ncross-checked Ax - b \n [[ 0.00000000e+00]\n [-3.55271368e-15]\n [ 0.00000000e+00]]\n"
     ]
    }
   ],
   "source": [
    "# Ένας εξτρα έλεγχος για τη μέθοδο\n",
    "\n",
    "\n",
    "def linSysIterMatrixFormat(A, b):\n",
    "    ''' Gauss Seidel in matrix format ala text book \n",
    "       -- requires lower diagonal matrix inversion -- \n",
    "       performed here with numpy for cross check'''\n",
    "\n",
    "    (n, m) = A.shape\n",
    "    if n != m: print('A is not a square matrix but is %d x %d'%(n, m))\n",
    "    if (n, 1) != b.shape: print('b is not a column vector of same dim as A')\n",
    "\n",
    "    D = np.tril(A)\n",
    "    S = - np.triu(A, k=1)\n",
    "    Dinv = np.linalg.inv(D) # small cheating\n",
    "    M = Dinv@S\n",
    "    Dinvb = Dinv@b\n",
    "\n",
    "    w, v = np.linalg.eig(M)\n",
    "    print('M \\n', M)\n",
    "    print('eigenvalues \\n', w)\n",
    "    print('eigenvectors \\n', v)\n",
    "    print('spectral radius = ', max(abs(w)))\n",
    "\n",
    "    X = np.zeros((n,1))  \n",
    "\n",
    "    for ii in range(100): \n",
    "        X = M@X + Dinvb \n",
    "\n",
    "    print('cross-checked X \\n', X)\n",
    "    print('cross-checked Ax - b \\n', A@X - b)\n",
    "\n",
    "linSysIterMatrixFormat(A, b) # this is for cross-check"
   ]
  }
 ]
}