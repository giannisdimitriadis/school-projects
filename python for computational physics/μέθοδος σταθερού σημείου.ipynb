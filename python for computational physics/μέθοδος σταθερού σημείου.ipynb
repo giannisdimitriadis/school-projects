{
 "metadata": {
  "language_info": {
   "codemirror_mode": {
    "name": "ipython",
    "version": 3
   },
   "file_extension": ".py",
   "mimetype": "text/x-python",
   "name": "python",
   "nbconvert_exporter": "python",
   "pygments_lexer": "ipython3",
   "version": "3.9.0-final"
  },
  "orig_nbformat": 2,
  "kernelspec": {
   "name": "python3",
   "display_name": "Python 3.9.0 64-bit",
   "metadata": {
    "interpreter": {
     "hash": "a1c048be7b072d6dd25b9ac428dc1fb9f8714e6b09effa99acd4035ec8dbeb08"
    }
   }
  }
 },
 "nbformat": 4,
 "nbformat_minor": 2,
 "cells": [
  {
   "cell_type": "code",
   "execution_count": 2,
   "metadata": {},
   "outputs": [],
   "source": [
    "import numpy as np\n",
    "import matplotlib.pyplot as plt"
   ]
  },
  {
   "cell_type": "code",
   "execution_count": 4,
   "metadata": {},
   "outputs": [
    {
     "output_type": "stream",
     "name": "stdout",
     "text": [
      "for x =  7.791287847477912 g(x) =  7.791287847477919 and f(x) =  -3.552713678800501e-14\nfor x =  3.208712152520337 h(x) =  3.2087121525225664 and f(x) =  7.986500349943526e-12\n"
     ]
    }
   ],
   "source": [
    "# Εύρεση ριζών με χρήση της επαναληπτικής μεθόδου σταθερού σημείου (fixed point iterations)\n",
    "\n",
    "def f(x): return x**2 - 11*x + 25\n",
    "def g(x): return 5 + x**0.5\n",
    "def h(x): return 5 - x**0.5\n",
    "\n",
    "# Οι g(x),h(x) που ορίζονται, είναι οι λύσεις της f(x)=0, καθώς x^2-11x+25=0 => x^2-10x+25=x => x=5+√x=g(x) ή x=5-√x=h(x)\n",
    "\n",
    "x = 3.0                       # Αρχικό σημείο (μαντεψιά)\n",
    "n = 0\n",
    "while (n < 20):               # Δοκιμάζουμε για 20 επαναλήψεις\n",
    "  x = g(x)\n",
    "  n = n + 1\n",
    "print ('for x = ', x, 'g(x) = ', g(x), 'and f(x) = ', f(x))\n",
    "\n",
    "# Την ίδια διαδικασία κάνουμε και για την άλλη ρίζα (h(x))\n",
    "x = 3.0                       # Αρχική τιμή \n",
    "n = 0\n",
    "while (n < 20): \n",
    "  x = h(x)\n",
    "  n = n + 1\n",
    "print ('for x = ', x, 'h(x) = ', h(x), 'and f(x) = ', f(x))\n",
    "\n",
    "# Για τη σύγκλιση ελέγχουμε αν η απόλυτη τιμή της παραγώγου της g(ρ) είναι μικρότερη ή μεγαλύτερη από 1. Αν |g'(ρ)| < 1 τότε η μέθοδος συγκλίνει (τότε lim_{n->\\infty}x_n=ρ), ενώ αν |g'(ρ)| > 1 τότε η μέθοδος αποκλίνει, όπου ρ=g(ρ) (περισσότερες λεπτομέρειες στις αντίστοιχες διαφάνειες και στο μισυρλή)"
   ]
  }
 ]
}