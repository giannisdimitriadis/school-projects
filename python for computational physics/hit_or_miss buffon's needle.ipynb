{
 "metadata": {
  "language_info": {
   "codemirror_mode": {
    "name": "ipython",
    "version": 3
   },
   "file_extension": ".py",
   "mimetype": "text/x-python",
   "name": "python",
   "nbconvert_exporter": "python",
   "pygments_lexer": "ipython3",
   "version": "3.9.0-final"
  },
  "orig_nbformat": 2,
  "kernelspec": {
   "name": "python3",
   "display_name": "Python 3.9.0 64-bit",
   "metadata": {
    "interpreter": {
     "hash": "a1c048be7b072d6dd25b9ac428dc1fb9f8714e6b09effa99acd4035ec8dbeb08"
    }
   }
  }
 },
 "nbformat": 4,
 "nbformat_minor": 2,
 "cells": [
  {
   "cell_type": "code",
   "execution_count": 1,
   "metadata": {},
   "outputs": [],
   "source": [
    "import numpy as np\n",
    "import matplotlib.pyplot as plt"
   ]
  },
  {
   "cell_type": "code",
   "execution_count": 2,
   "metadata": {},
   "outputs": [],
   "source": [
    "def U(): return np.random.rand()"
   ]
  },
  {
   "cell_type": "code",
   "execution_count": 3,
   "metadata": {},
   "outputs": [],
   "source": [
    "# H hit or miss ολοκλήρωση βασίζεται στη διωνυμική κατανομή. Θυμίζουμε ότι η αναμενόμενη τιμή του m είναι Ε(m)=p*n, και το Variance της διωνυμικής κατανομής είναι Var(m)=n*p*q"
   ]
  },
  {
   "cell_type": "code",
   "execution_count": 5,
   "metadata": {},
   "outputs": [
    {
     "output_type": "stream",
     "name": "stdout",
     "text": [
      "π= 3.052 +- 0.054\n"
     ]
    }
   ],
   "source": [
    "# Υπολογισμός του π με τη μελέτη του προβλήματος της βελόνας του Buffon χρησιμοποιώντας τη μέθοδο της hit or miss ολοκλήρωσης\n",
    "n = 1000\n",
    "m = 0                             # Μεταβλητή που κρατάει τα hits\n",
    "\n",
    "for i in range(n):\n",
    "    x, y = U(), U()               # Επιλέγω ψευδοτυχαία τα x και y\n",
    "    if x**2 + y**2 <= 1: m+=1     \n",
    "\n",
    "p = m/n                           # Πιθανότητα να πέσω εντός του τεταρτημορίου\n",
    "q = 1-p\n",
    "δp = (n*p*q)**0.5/n               # Τυπική απόκλιση των hits διά το πλήθος n\n",
    "pi = 4*p\n",
    "\n",
    "print('π= %2.3f +- %2.3f'%(pi, 4*δp))"
   ]
  }
 ]
}