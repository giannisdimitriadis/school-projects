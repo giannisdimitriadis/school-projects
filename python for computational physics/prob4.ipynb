{
 "metadata": {
  "language_info": {
   "codemirror_mode": {
    "name": "ipython",
    "version": 3
   },
   "file_extension": ".py",
   "mimetype": "text/x-python",
   "name": "python",
   "nbconvert_exporter": "python",
   "pygments_lexer": "ipython3",
   "version": "3.9.0-final"
  },
  "orig_nbformat": 2,
  "kernelspec": {
   "name": "python3",
   "display_name": "Python 3.9.0 64-bit",
   "metadata": {
    "interpreter": {
     "hash": "a1c048be7b072d6dd25b9ac428dc1fb9f8714e6b09effa99acd4035ec8dbeb08"
    }
   }
  }
 },
 "nbformat": 4,
 "nbformat_minor": 2,
 "cells": [
  {
   "cell_type": "code",
   "execution_count": 7,
   "metadata": {},
   "outputs": [],
   "source": [
    "import numpy as np\n",
    "import matplotlib.pyplot as plt"
   ]
  },
  {
   "cell_type": "code",
   "execution_count": 8,
   "metadata": {},
   "outputs": [],
   "source": [
    "def U(a,b): return (b-a)*np.random.uniform(0,1) + a\n",
    "def rho1(x,y): return (20/13.)*(x+y)  # Πυκνότητα ερωτήματος α\n",
    "def rho2(x,y,z): return (12/31.)*(x**2+y*z)  # Πυκνότητα ερωτήματος β"
   ]
  },
  {
   "cell_type": "code",
   "execution_count": 9,
   "metadata": {},
   "outputs": [
    {
     "output_type": "stream",
     "name": "stdout",
     "text": [
      "V = 0.6490\nI = 0.9563 +/- 0.0166\n"
     ]
    }
   ],
   "source": [
    "N     = 1000  # Πλήθος γεγονότων (πόσα βελάκια θα ρίξω)\n",
    "m     = 0     # Πλήθος αριθμών που θα πέσουν εντός της πλάκας (πόσα βελάκια θα βρουν στόχο)\n",
    "sumf  = 0     # Κλασικές μεταβλητές που βοηθάνε για τον υπολογισμό\n",
    "sumf2 = 0     # της μέσης τιμής και της τυπικής απόκλισης\n",
    "\n",
    "for i in range(N):\n",
    "    x = U(0,1)\n",
    "    y = U(0,1)\n",
    "    if x >= 0 and y <= 1 and y >= (x*x):  # Η συνθήκη που λέει αν το βελάκι βρήκε στόχο\n",
    "        m     += 1\n",
    "        sumf  += rho1(x,y)\n",
    "        sumf2 += rho1(x,y)**2\n",
    "          \n",
    "meanf   = sumf/m                               # Μέση τιμή\n",
    "sigmaf2 = (sumf2/m - meanf**2)*m/(m-1)         # Τετραγωνική διασπορά\n",
    "sigmaf  = sigmaf2**0.5                         # Τυπική απόκλιση\n",
    "V  = (m/N)*1             # (m/N)*(b-a)  όπου m/n η πιθανότητα το βελάκι να βρει στόχο (βελάκια                          # που βρήκαν στόχο διά συνολικά βελάκια)\n",
    "I  = V*meanf\n",
    "dI = V*sigmaf/m**0.5\n",
    "print('V = %2.4f'%(V))\n",
    "print('I = %2.4f +/- %2.4f'%(I,dI))"
   ]
  },
  {
   "cell_type": "code",
   "execution_count": 10,
   "metadata": {},
   "outputs": [
    {
     "output_type": "stream",
     "name": "stdout",
     "text": [
      "V = 1.0000\nI = 1.0076 +/- 0.0082\n"
     ]
    }
   ],
   "source": [
    "N     = 1000  # Πλήθος γεγονότων (πόσα βελάκια θα ρίξω) (εδώ όλα θα βρουν στόχο, δηλαδή Ν=m)\n",
    "sumf  = 0     # Κλασικές μεταβλητές που βοηθάνε για τον υπολογισμό\n",
    "sumf2 = 0     # της μέσης τιμής και της τυπικής απόκλισης\n",
    "\n",
    "for i in range(N):\n",
    "    x = U(0,1)\n",
    "    y = U(1,2)\n",
    "    z = U(1,2)\n",
    "    if 0 <= x <= 1 and 1 <= y <= 2 and 1 <= z <= 2:  # Συνθήκη οριοθέτησης\n",
    "        m     += 1\n",
    "    sumf  += rho2(x,y,z)\n",
    "    sumf2 += rho2(x,y,z)**2\n",
    "          \n",
    "meanf   = sumf/N                               # Μέση τιμή\n",
    "sigmaf2 = (sumf2/N - meanf**2)*N/(N-1)         # Τετραγωνική διασπορά\n",
    "sigmaf  = sigmaf2**0.5                         # Τυπική απόκλιση\n",
    "V  = 1   # όλα τα βέλη βρίσκουν στόχο και ο κύβος έχει όγκο 1, άρα 1*1\n",
    "I  = V*meanf\n",
    "dI = V*sigmaf/N**0.5\n",
    "print('V = %2.4f'%(V))\n",
    "print('I = %2.4f +/- %2.4f'%(I,dI))\n",
    "\n",
    "# Εδώ βλέπουμε ότι η συνθήκη οριοθέτησης είναι αχρείαστη, καθώς ταυτίζεται με τα τον ίδιο τον κύβο. Οπότε και το V αν το τυπώσουμε θα δώσει μονάδα. Μπορούμε λοιπόν να παραλείψουμε τόσο τη μεταβλητή m (καθώς όλα τα βέλη θα βρίσκουν στόχο), όσο και το if statement και να θεωρήσουμε απευθείας V=1"
   ]
  }
 ]
}