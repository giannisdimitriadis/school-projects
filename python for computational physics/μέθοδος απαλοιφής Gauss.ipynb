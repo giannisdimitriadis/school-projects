{
 "metadata": {
  "language_info": {
   "codemirror_mode": {
    "name": "ipython",
    "version": 3
   },
   "file_extension": ".py",
   "mimetype": "text/x-python",
   "name": "python",
   "nbconvert_exporter": "python",
   "pygments_lexer": "ipython3",
   "version": "3.9.0-final"
  },
  "orig_nbformat": 2,
  "kernelspec": {
   "name": "python3",
   "display_name": "Python 3.9.0 64-bit",
   "metadata": {
    "interpreter": {
     "hash": "a1c048be7b072d6dd25b9ac428dc1fb9f8714e6b09effa99acd4035ec8dbeb08"
    }
   }
  }
 },
 "nbformat": 4,
 "nbformat_minor": 2,
 "cells": [
  {
   "cell_type": "code",
   "execution_count": 2,
   "metadata": {},
   "outputs": [],
   "source": [
    "import numpy as np\n",
    "\n",
    "A = np.array([ [1. ,2. , 1. ], \n",
    "               [2. ,2. , 3. ], \n",
    "               [-1., -3., 0.] ])\n",
    "\n",
    "b = np.array([ [0.],   # note the format of np.array([ ])\n",
    "               [3.],   # np.array([ [0], [3], [2] ]) has shape 3 x 1 (πίνακας στήλη)\n",
    "               [2.] ]) # while np.array([[ 0, 3, 2 ]) would have 1 x 3 (πίνακας γραμμή)"
   ]
  },
  {
   "cell_type": "code",
   "execution_count": 3,
   "metadata": {},
   "outputs": [
    {
     "output_type": "stream",
     "name": "stdout",
     "text": [
      "[[ 1.  2.  1.]\n [ 2.  2.  3.]\n [-1. -3.  0.]]\nΟ πίνακας b έχει 3 γραμμές και 1 στήλες\n[[0.]\n [3.]\n [2.]]\nΟ επαυξημένος πίνακας C έχει 3 γραμμές και 4 στήλες\n[[ 1.  2.  1.  0.]\n [ 2.  2.  3.  3.]\n [-1. -3.  0.  2.]]\n"
     ]
    }
   ],
   "source": [
    "(n, m) = A.shape  # n-rows, m-columns\n",
    "\n",
    "# Έλεγχος στην περίπτωση που ο πίανακς δεν είναι τετραγωνικός\n",
    "\n",
    "if n!=m: print('Ο πίνακας Α δεν είναι τετραγωνικός')\n",
    "print(A)\n",
    "print('Ο πίνακας b έχει %d γραμμές και %d στήλες'%b.shape)\n",
    "print(b)\n",
    "\n",
    "\n",
    "C = np.concatenate((A,b), axis = 1)     # Σχηματισμός του επαυξημένου πίνακα\n",
    "print('Ο επαυξημένος πίνακας C έχει %d γραμμές και %d στήλες'%C.shape)\n",
    "print(C) "
   ]
  },
  {
   "cell_type": "code",
   "execution_count": 4,
   "metadata": {},
   "outputs": [
    {
     "output_type": "stream",
     "name": "stdout",
     "text": [
      "[[ 1.  2.  1.  0.]\n [ 0. -2.  1.  3.]\n [-1. -3.  0.  2.]]\n"
     ]
    }
   ],
   "source": [
    "# Η διαδικασία της επίλυσης (γραμμοπράξεις) γίνεται χειροκίνητα, και όχι υπολογιστικά (στον κώδικα που κάνουμε με μερική οδήγηση δείχνουμε με ποιόν τρόπο οι γραμμοπράξεις γίνονται υπολογιστικά και όχι αναλυτικά)\n",
    "\n",
    "# Θυμόμαστε ότι η αρίθμηση των γραμμών ξεκινά απ'το 0, επομένως C[1] είναι η δεύτερη γραμμή του επαυξημένου πίνακα, δηλαδή η [2. 2. 3. 3.]\n",
    "\n",
    "C[1] = C[1] - 2*C[0]\n",
    "print(C)\n"
   ]
  },
  {
   "cell_type": "code",
   "execution_count": 5,
   "metadata": {},
   "outputs": [
    {
     "output_type": "stream",
     "name": "stdout",
     "text": [
      "[[ 1.  2.  1.  0.]\n [ 0. -2.  1.  3.]\n [ 0. -1.  1.  2.]]\n"
     ]
    }
   ],
   "source": [
    "C[2] = C[2] + C[0]\n",
    "print(C)"
   ]
  },
  {
   "cell_type": "code",
   "execution_count": 6,
   "metadata": {},
   "outputs": [
    {
     "output_type": "stream",
     "name": "stdout",
     "text": [
      "[[ 1.   2.   1.   0. ]\n [ 0.  -2.   1.   3. ]\n [ 0.   0.   0.5  0.5]]\n"
     ]
    }
   ],
   "source": [
    "C[2] = C[2] - 0.5*C[1]\n",
    "print(C)"
   ]
  },
  {
   "cell_type": "code",
   "execution_count": 7,
   "metadata": {},
   "outputs": [],
   "source": [
    "# Αφού έγιναν οι γραμμοπράξεις που φαίρνουν τον πίνακα Α σε άνω τριγωνική μορφή μένει να γίνει η πίσω αντικατάσταση.\n",
    "\n",
    "x3 = C[2,3] / C[2,2]\n",
    "x2 = (C[1,3] - x3*C[1,2]) / C[1,1]\n",
    "x1 = (C[0,3] - x2*C[0,1] - x3*C[0,2])/C[0,0]"
   ]
  },
  {
   "cell_type": "code",
   "execution_count": 8,
   "metadata": {},
   "outputs": [
    {
     "output_type": "stream",
     "name": "stdout",
     "text": [
      "[[ 1.]\n [-1.]\n [ 1.]]\n"
     ]
    }
   ],
   "source": [
    "X = np.array([[x1], [x2], [x3]])\n",
    "print(X)"
   ]
  },
  {
   "cell_type": "code",
   "execution_count": 9,
   "metadata": {},
   "outputs": [
    {
     "output_type": "stream",
     "name": "stdout",
     "text": [
      "[[0.]\n [0.]\n [0.]]\n"
     ]
    }
   ],
   "source": [
    "# Σαν επιβεβαίωση της λύσης ελέγχουμε αν πράγματι ισχύει Α x - b = 0\n",
    "\n",
    "print(A@X - b) # A@X, is the dot product of the two matrices A and X"
   ]
  }
 ]
}