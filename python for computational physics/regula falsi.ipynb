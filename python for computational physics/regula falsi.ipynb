{
 "metadata": {
  "language_info": {
   "codemirror_mode": {
    "name": "ipython",
    "version": 3
   },
   "file_extension": ".py",
   "mimetype": "text/x-python",
   "name": "python",
   "nbconvert_exporter": "python",
   "pygments_lexer": "ipython3",
   "version": "3.9.0-final"
  },
  "orig_nbformat": 2,
  "kernelspec": {
   "name": "python3",
   "display_name": "Python 3.9.0 64-bit",
   "metadata": {
    "interpreter": {
     "hash": "a1c048be7b072d6dd25b9ac428dc1fb9f8714e6b09effa99acd4035ec8dbeb08"
    }
   }
  }
 },
 "nbformat": 4,
 "nbformat_minor": 2,
 "cells": [
  {
   "cell_type": "code",
   "execution_count": 1,
   "metadata": {},
   "outputs": [],
   "source": [
    "import numpy as np\n",
    "import matplotlib.pyplot as plt"
   ]
  },
  {
   "cell_type": "code",
   "execution_count": 2,
   "metadata": {},
   "outputs": [],
   "source": [
    "def f(x): return x*x - 5    # Στο παράδειγμα αυτό βρίσκουμε το √5 με τη μέθοδο εσφαλμένης θέσης"
   ]
  },
  {
   "cell_type": "code",
   "execution_count": 4,
   "metadata": {},
   "outputs": [
    {
     "output_type": "stream",
     "name": "stdout",
     "text": [
      "n =  1 a =  2.2 b =  3\nn =  2 a =  2.2307692307692304 b =  3\nn =  3 a =  2.2352941176470584 b =  3\nn =  4 a =  2.2359550561797756 b =  3\nn =  5 a =  2.236051502145923 b =  3\nn =  6 a =  2.236065573770492 b =  3\nn =  7 a =  2.2360676268002506 b =  3\nn =  8 a =  2.236067926333413 b =  3\nn =  9 a =  2.236067970034716 b =  3\nn =  10 a =  2.23606797641065 b =  3\nn =  11 a =  2.2360679773408862 b =  3\nn =  12 a =  2.236067977476606 b =  3\nn =  13 a =  2.236067977496407 b =  3\nn =  14 a =  2.2360679774992964 b =  3\nn =  15 a =  2.236067977499718 b =  3\nn =  16 a =  2.236067977499779 b =  3\nn =  17 a =  2.2360679774997885 b =  3\nn =  18 a =  2.2360679774997894 b =  3\nn =  19 a =  2.2360679774997894 b =  2.23606797749979\n"
     ]
    }
   ],
   "source": [
    "a = 2\n",
    "b = 3\n",
    "n = 0\n",
    "e = 1.e-5 # = 0.00001\n",
    "while( b - a > e and n < 100):\n",
    "  c = (f(b)*a-f(a)*b)/(f(b)-f(a))\n",
    "  if f(c)*f(b) < 0: a = c\n",
    "  else: b = c\n",
    "  n = n + 1\n",
    "  print('n = ', n, 'a = ', a, 'b = ', b)"
   ]
  }
 ]
}