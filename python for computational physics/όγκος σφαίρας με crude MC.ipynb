{
 "metadata": {
  "language_info": {
   "codemirror_mode": {
    "name": "ipython",
    "version": 3
   },
   "file_extension": ".py",
   "mimetype": "text/x-python",
   "name": "python",
   "nbconvert_exporter": "python",
   "pygments_lexer": "ipython3",
   "version": "3.9.0-final"
  },
  "orig_nbformat": 2,
  "kernelspec": {
   "name": "python3",
   "display_name": "Python 3.9.0 64-bit",
   "metadata": {
    "interpreter": {
     "hash": "a1c048be7b072d6dd25b9ac428dc1fb9f8714e6b09effa99acd4035ec8dbeb08"
    }
   }
  }
 },
 "nbformat": 4,
 "nbformat_minor": 2,
 "cells": [
  {
   "cell_type": "code",
   "execution_count": 1,
   "metadata": {},
   "outputs": [],
   "source": [
    "import numpy as np\n",
    "import matplotlib.pyplot as plt"
   ]
  },
  {
   "cell_type": "code",
   "execution_count": 2,
   "metadata": {},
   "outputs": [],
   "source": [
    "def U(): return np.random.rand()\n",
    "def f(x,y,z): return (5/(648*np.pi))*(x**2 + y**2)\n",
    "def Unif(a,b): return (b-a)*U() + a"
   ]
  },
  {
   "cell_type": "code",
   "execution_count": 3,
   "metadata": {},
   "outputs": [
    {
     "output_type": "stream",
     "name": "stdout",
     "text": [
      "I = 1.00002 +- 0.00090\n"
     ]
    }
   ],
   "source": [
    "N   = 1000000\n",
    "n   = 0                               # Πλήθος αριθμών που θα πέσουν εντός της σφαίρας\n",
    "sf  = 0\n",
    "sf2 = 0\n",
    "R   = 3\n",
    "\n",
    "\n",
    "for i in range(N):\n",
    "    x = Unif(-R,R)                    # Tα x,y,z παίρνουν τιμές στο [-R,R]\n",
    "    y = Unif(-R,R)\n",
    "    z = Unif(-R,R)\n",
    "    \n",
    "    if x**2 + y**2 + z**2 <= 9:\n",
    "        temp = f(x,y,z)\n",
    "        sf += temp\n",
    "        sf2 += temp*temp\n",
    "        n += 1\n",
    "    \n",
    "meanf = sf/n\n",
    "sf2   = (n/(n-1))*(sf2/n-meanf**2)    # Υπολογισμός της τετραγωνικής διασποράς\n",
    "sf    = sf2**0.5\n",
    "V     = (4/3)*np.pi*R**3\n",
    "# Όταν το σχήμα δεν είναι μια σφαίρα, της οποίας ξέρω τον όγκο, αλλά είναι για παράδειγμα μια σφαίρα με μια οπή εσωτερικά αυτό που αλλάζει είναι ότι βάζω για όγκο το ακόλουθο:\n",
    "#V     = (n/N)*(2*R)**3 # (όπου n/N είναι η πιθανότητα να πέσω μες στη σφαίρα και (2R)^3 είναι ο κύβος). Μόνο που έτσι εισάγει και το V μια αβεβαιότητα, οπότε θα πρέπει στο δΙ να κάνω διάδοση σφαλμάτων να ενσωματώσω κι ένα δV (προκύπτει με διάδοση σφαλμάτων \n",
    "# δΙ^2 = δΙ_crude^2 + δV^2\n",
    "# όπου δV^2 = (V/√n sqrt{(m/n)(1-m/n)})^2\n",
    "I     = V*meanf\n",
    "δI    = (V*sf)/n**0.5\n",
    "\n",
    "print('I = %2.5f +- %2.5f'%(I, δI))  # Παρατηρώ ότι όσο αυξάνω το Ν αυξάνεται και η ακρίβειά μου"
   ]
  },
  {
   "cell_type": "code",
   "execution_count": null,
   "metadata": {},
   "outputs": [],
   "source": []
  }
 ]
}