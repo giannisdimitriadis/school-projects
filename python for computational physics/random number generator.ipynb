{
 "metadata": {
  "language_info": {
   "codemirror_mode": {
    "name": "ipython",
    "version": 3
   },
   "file_extension": ".py",
   "mimetype": "text/x-python",
   "name": "python",
   "nbconvert_exporter": "python",
   "pygments_lexer": "ipython3",
   "version": "3.9.0-final"
  },
  "orig_nbformat": 2,
  "kernelspec": {
   "name": "python3",
   "display_name": "Python 3.9.0 64-bit",
   "metadata": {
    "interpreter": {
     "hash": "a1c048be7b072d6dd25b9ac428dc1fb9f8714e6b09effa99acd4035ec8dbeb08"
    }
   }
  }
 },
 "nbformat": 4,
 "nbformat_minor": 2,
 "cells": [
  {
   "cell_type": "code",
   "execution_count": 7,
   "metadata": {},
   "outputs": [],
   "source": [
    "def randlist(n = 1, seed = 314):      # Το n ορίζει το ελάχιστο πλήθος τυχαίων αριθμών που θα επιστρέφει η συνάρτηση. Το seed είναι η \"αρχικοποίηση\". Αλλάζοντας το seed παίρνω μια διαφορετική σειρά τυχαίων αριθμών (ορίζοντας μια συγκεκριμένη τιμή μου επιτρέπει να διαταυρώσω ότι βγάζω τα ίδια αποτελέσματα με κάποιον που έχει χρησιμοποιήσει το ίδιο seed)\n",
    "\n",
    "    rnds = []                         # Εδώ θα σώσουμε τα arrays των ψευδοτυχαίων αριθμών\n",
    "    x    = seed                       # Αρχικοποιώ το x με την τιμή του seed   \n",
    "    for i in range(n):\n",
    "        x = (16807*x)%(2**31-1)       # To % δίνει το υπόλοιπο της ακέραιας διαίρεσης (mod)\n",
    "        rnds += [x/(2**31-1)]         # Διαιρώ με τη μέγιστη τιμή των ακεραίων (2^31-1), για να παίρνω ψευδοτυχαίους αριθμούς στο [0,1]\n",
    "    return rnds \n",
    "\n",
    "# Ο τύπος της γεννήτριας που χρησιμοποιήσαμε ονομάζεται γραμμικός μετασχηματισμός ισοδυναμίας υπολοίπου"
   ]
  },
  {
   "cell_type": "code",
   "execution_count": 8,
   "metadata": {},
   "outputs": [
    {
     "output_type": "execute_result",
     "data": {
      "text/plain": [
       "[0.002457479947459642,\n",
       " 0.3028654769542001,\n",
       " 0.26007116924043333,\n",
       " 0.016141423963076166,\n",
       " 0.28891254742113526,\n",
       " 0.7531845070203694,\n",
       " 0.7720094913486435,\n",
       " 0.16352109665215067,\n",
       " 0.299071432696223,\n",
       " 0.49356932541987364]"
      ]
     },
     "metadata": {},
     "execution_count": 8
    }
   ],
   "source": [
    "randlist(n = 10)     # Το n ορίζει το πόσους ψευδοτυχαίους αριθμός θέλω να παράξω"
   ]
  },
  {
   "cell_type": "code",
   "execution_count": null,
   "metadata": {},
   "outputs": [],
   "source": []
  }
 ]
}